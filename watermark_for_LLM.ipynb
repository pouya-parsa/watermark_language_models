{
  "nbformat": 4,
  "nbformat_minor": 0,
  "metadata": {
    "colab": {
      "provenance": [],
      "gpuType": "T4"
    },
    "kernelspec": {
      "name": "python3",
      "display_name": "Python 3"
    },
    "language_info": {
      "name": "python"
    },
    "accelerator": "GPU",
    "widgets": {
      "application/vnd.jupyter.widget-state+json": {
        "31db4254d5964fddb3840d4ff028b6c9": {
          "model_module": "@jupyter-widgets/controls",
          "model_name": "HBoxModel",
          "model_module_version": "1.5.0",
          "state": {
            "_dom_classes": [],
            "_model_module": "@jupyter-widgets/controls",
            "_model_module_version": "1.5.0",
            "_model_name": "HBoxModel",
            "_view_count": null,
            "_view_module": "@jupyter-widgets/controls",
            "_view_module_version": "1.5.0",
            "_view_name": "HBoxView",
            "box_style": "",
            "children": [
              "IPY_MODEL_1c528bdebcf343ae857d51a9ee99d2cb",
              "IPY_MODEL_ee4ac33bb16342678ea6e25db4c4a31e",
              "IPY_MODEL_4109c043267e41a0a6bc62b4cb2411a5"
            ],
            "layout": "IPY_MODEL_fa0295d222a1483aa5740bfffcf56a08"
          }
        },
        "1c528bdebcf343ae857d51a9ee99d2cb": {
          "model_module": "@jupyter-widgets/controls",
          "model_name": "HTMLModel",
          "model_module_version": "1.5.0",
          "state": {
            "_dom_classes": [],
            "_model_module": "@jupyter-widgets/controls",
            "_model_module_version": "1.5.0",
            "_model_name": "HTMLModel",
            "_view_count": null,
            "_view_module": "@jupyter-widgets/controls",
            "_view_module_version": "1.5.0",
            "_view_name": "HTMLView",
            "description": "",
            "description_tooltip": null,
            "layout": "IPY_MODEL_14e51f430c3b44338948807d83115bae",
            "placeholder": "​",
            "style": "IPY_MODEL_3af0e8067a6d4ece96271a929ffec3df",
            "value": "100%"
          }
        },
        "ee4ac33bb16342678ea6e25db4c4a31e": {
          "model_module": "@jupyter-widgets/controls",
          "model_name": "FloatProgressModel",
          "model_module_version": "1.5.0",
          "state": {
            "_dom_classes": [],
            "_model_module": "@jupyter-widgets/controls",
            "_model_module_version": "1.5.0",
            "_model_name": "FloatProgressModel",
            "_view_count": null,
            "_view_module": "@jupyter-widgets/controls",
            "_view_module_version": "1.5.0",
            "_view_name": "ProgressView",
            "bar_style": "success",
            "description": "",
            "description_tooltip": null,
            "layout": "IPY_MODEL_d21f3ba18f9e4dafa20f839648202d0d",
            "max": 1000,
            "min": 0,
            "orientation": "horizontal",
            "style": "IPY_MODEL_62e14204dbf2408b85b83fff8deea655",
            "value": 1000
          }
        },
        "4109c043267e41a0a6bc62b4cb2411a5": {
          "model_module": "@jupyter-widgets/controls",
          "model_name": "HTMLModel",
          "model_module_version": "1.5.0",
          "state": {
            "_dom_classes": [],
            "_model_module": "@jupyter-widgets/controls",
            "_model_module_version": "1.5.0",
            "_model_name": "HTMLModel",
            "_view_count": null,
            "_view_module": "@jupyter-widgets/controls",
            "_view_module_version": "1.5.0",
            "_view_name": "HTMLView",
            "description": "",
            "description_tooltip": null,
            "layout": "IPY_MODEL_1f1e0fba6db642a38f364186aaca3811",
            "placeholder": "​",
            "style": "IPY_MODEL_e3c914cbebc648268b855eb0377888cb",
            "value": " 1000/1000 [15:48&lt;00:00,  1.07it/s]"
          }
        },
        "fa0295d222a1483aa5740bfffcf56a08": {
          "model_module": "@jupyter-widgets/base",
          "model_name": "LayoutModel",
          "model_module_version": "1.2.0",
          "state": {
            "_model_module": "@jupyter-widgets/base",
            "_model_module_version": "1.2.0",
            "_model_name": "LayoutModel",
            "_view_count": null,
            "_view_module": "@jupyter-widgets/base",
            "_view_module_version": "1.2.0",
            "_view_name": "LayoutView",
            "align_content": null,
            "align_items": null,
            "align_self": null,
            "border": null,
            "bottom": null,
            "display": null,
            "flex": null,
            "flex_flow": null,
            "grid_area": null,
            "grid_auto_columns": null,
            "grid_auto_flow": null,
            "grid_auto_rows": null,
            "grid_column": null,
            "grid_gap": null,
            "grid_row": null,
            "grid_template_areas": null,
            "grid_template_columns": null,
            "grid_template_rows": null,
            "height": null,
            "justify_content": null,
            "justify_items": null,
            "left": null,
            "margin": null,
            "max_height": null,
            "max_width": null,
            "min_height": null,
            "min_width": null,
            "object_fit": null,
            "object_position": null,
            "order": null,
            "overflow": null,
            "overflow_x": null,
            "overflow_y": null,
            "padding": null,
            "right": null,
            "top": null,
            "visibility": null,
            "width": null
          }
        },
        "14e51f430c3b44338948807d83115bae": {
          "model_module": "@jupyter-widgets/base",
          "model_name": "LayoutModel",
          "model_module_version": "1.2.0",
          "state": {
            "_model_module": "@jupyter-widgets/base",
            "_model_module_version": "1.2.0",
            "_model_name": "LayoutModel",
            "_view_count": null,
            "_view_module": "@jupyter-widgets/base",
            "_view_module_version": "1.2.0",
            "_view_name": "LayoutView",
            "align_content": null,
            "align_items": null,
            "align_self": null,
            "border": null,
            "bottom": null,
            "display": null,
            "flex": null,
            "flex_flow": null,
            "grid_area": null,
            "grid_auto_columns": null,
            "grid_auto_flow": null,
            "grid_auto_rows": null,
            "grid_column": null,
            "grid_gap": null,
            "grid_row": null,
            "grid_template_areas": null,
            "grid_template_columns": null,
            "grid_template_rows": null,
            "height": null,
            "justify_content": null,
            "justify_items": null,
            "left": null,
            "margin": null,
            "max_height": null,
            "max_width": null,
            "min_height": null,
            "min_width": null,
            "object_fit": null,
            "object_position": null,
            "order": null,
            "overflow": null,
            "overflow_x": null,
            "overflow_y": null,
            "padding": null,
            "right": null,
            "top": null,
            "visibility": null,
            "width": null
          }
        },
        "3af0e8067a6d4ece96271a929ffec3df": {
          "model_module": "@jupyter-widgets/controls",
          "model_name": "DescriptionStyleModel",
          "model_module_version": "1.5.0",
          "state": {
            "_model_module": "@jupyter-widgets/controls",
            "_model_module_version": "1.5.0",
            "_model_name": "DescriptionStyleModel",
            "_view_count": null,
            "_view_module": "@jupyter-widgets/base",
            "_view_module_version": "1.2.0",
            "_view_name": "StyleView",
            "description_width": ""
          }
        },
        "d21f3ba18f9e4dafa20f839648202d0d": {
          "model_module": "@jupyter-widgets/base",
          "model_name": "LayoutModel",
          "model_module_version": "1.2.0",
          "state": {
            "_model_module": "@jupyter-widgets/base",
            "_model_module_version": "1.2.0",
            "_model_name": "LayoutModel",
            "_view_count": null,
            "_view_module": "@jupyter-widgets/base",
            "_view_module_version": "1.2.0",
            "_view_name": "LayoutView",
            "align_content": null,
            "align_items": null,
            "align_self": null,
            "border": null,
            "bottom": null,
            "display": null,
            "flex": null,
            "flex_flow": null,
            "grid_area": null,
            "grid_auto_columns": null,
            "grid_auto_flow": null,
            "grid_auto_rows": null,
            "grid_column": null,
            "grid_gap": null,
            "grid_row": null,
            "grid_template_areas": null,
            "grid_template_columns": null,
            "grid_template_rows": null,
            "height": null,
            "justify_content": null,
            "justify_items": null,
            "left": null,
            "margin": null,
            "max_height": null,
            "max_width": null,
            "min_height": null,
            "min_width": null,
            "object_fit": null,
            "object_position": null,
            "order": null,
            "overflow": null,
            "overflow_x": null,
            "overflow_y": null,
            "padding": null,
            "right": null,
            "top": null,
            "visibility": null,
            "width": null
          }
        },
        "62e14204dbf2408b85b83fff8deea655": {
          "model_module": "@jupyter-widgets/controls",
          "model_name": "ProgressStyleModel",
          "model_module_version": "1.5.0",
          "state": {
            "_model_module": "@jupyter-widgets/controls",
            "_model_module_version": "1.5.0",
            "_model_name": "ProgressStyleModel",
            "_view_count": null,
            "_view_module": "@jupyter-widgets/base",
            "_view_module_version": "1.2.0",
            "_view_name": "StyleView",
            "bar_color": null,
            "description_width": ""
          }
        },
        "1f1e0fba6db642a38f364186aaca3811": {
          "model_module": "@jupyter-widgets/base",
          "model_name": "LayoutModel",
          "model_module_version": "1.2.0",
          "state": {
            "_model_module": "@jupyter-widgets/base",
            "_model_module_version": "1.2.0",
            "_model_name": "LayoutModel",
            "_view_count": null,
            "_view_module": "@jupyter-widgets/base",
            "_view_module_version": "1.2.0",
            "_view_name": "LayoutView",
            "align_content": null,
            "align_items": null,
            "align_self": null,
            "border": null,
            "bottom": null,
            "display": null,
            "flex": null,
            "flex_flow": null,
            "grid_area": null,
            "grid_auto_columns": null,
            "grid_auto_flow": null,
            "grid_auto_rows": null,
            "grid_column": null,
            "grid_gap": null,
            "grid_row": null,
            "grid_template_areas": null,
            "grid_template_columns": null,
            "grid_template_rows": null,
            "height": null,
            "justify_content": null,
            "justify_items": null,
            "left": null,
            "margin": null,
            "max_height": null,
            "max_width": null,
            "min_height": null,
            "min_width": null,
            "object_fit": null,
            "object_position": null,
            "order": null,
            "overflow": null,
            "overflow_x": null,
            "overflow_y": null,
            "padding": null,
            "right": null,
            "top": null,
            "visibility": null,
            "width": null
          }
        },
        "e3c914cbebc648268b855eb0377888cb": {
          "model_module": "@jupyter-widgets/controls",
          "model_name": "DescriptionStyleModel",
          "model_module_version": "1.5.0",
          "state": {
            "_model_module": "@jupyter-widgets/controls",
            "_model_module_version": "1.5.0",
            "_model_name": "DescriptionStyleModel",
            "_view_count": null,
            "_view_module": "@jupyter-widgets/base",
            "_view_module_version": "1.2.0",
            "_view_name": "StyleView",
            "description_width": ""
          }
        }
      }
    }
  },
  "cells": [
    {
      "cell_type": "markdown",
      "source": [
        "## Install Requirements"
      ],
      "metadata": {
        "id": "n7C9Q4v27NuO"
      }
    },
    {
      "cell_type": "code",
      "execution_count": 1,
      "metadata": {
        "colab": {
          "base_uri": "https://localhost:8080/",
          "height": 1000
        },
        "id": "w-V_7_ZpNQSX",
        "outputId": "6a3e201a-6c5d-47c6-b49a-a99574b868d8"
      },
      "outputs": [
        {
          "output_type": "stream",
          "name": "stdout",
          "text": [
            "Collecting transformers\n",
            "  Downloading transformers-4.31.0-py3-none-any.whl (7.4 MB)\n",
            "\u001b[2K     \u001b[90m━━━━━━━━━━━━━━━━━━━━━━━━━━━━━━━━━━━━━━━━\u001b[0m \u001b[32m7.4/7.4 MB\u001b[0m \u001b[31m52.1 MB/s\u001b[0m eta \u001b[36m0:00:00\u001b[0m\n",
            "\u001b[?25hRequirement already satisfied: filelock in /usr/local/lib/python3.10/dist-packages (from transformers) (3.12.2)\n",
            "Collecting huggingface-hub<1.0,>=0.14.1 (from transformers)\n",
            "  Downloading huggingface_hub-0.16.4-py3-none-any.whl (268 kB)\n",
            "\u001b[2K     \u001b[90m━━━━━━━━━━━━━━━━━━━━━━━━━━━━━━━━━━━━━━\u001b[0m \u001b[32m268.8/268.8 kB\u001b[0m \u001b[31m38.6 MB/s\u001b[0m eta \u001b[36m0:00:00\u001b[0m\n",
            "\u001b[?25hRequirement already satisfied: numpy>=1.17 in /usr/local/lib/python3.10/dist-packages (from transformers) (1.22.4)\n",
            "Requirement already satisfied: packaging>=20.0 in /usr/local/lib/python3.10/dist-packages (from transformers) (23.1)\n",
            "Requirement already satisfied: pyyaml>=5.1 in /usr/local/lib/python3.10/dist-packages (from transformers) (6.0.1)\n",
            "Requirement already satisfied: regex!=2019.12.17 in /usr/local/lib/python3.10/dist-packages (from transformers) (2022.10.31)\n",
            "Requirement already satisfied: requests in /usr/local/lib/python3.10/dist-packages (from transformers) (2.27.1)\n",
            "Collecting tokenizers!=0.11.3,<0.14,>=0.11.1 (from transformers)\n",
            "  Downloading tokenizers-0.13.3-cp310-cp310-manylinux_2_17_x86_64.manylinux2014_x86_64.whl (7.8 MB)\n",
            "\u001b[2K     \u001b[90m━━━━━━━━━━━━━━━━━━━━━━━━━━━━━━━━━━━━━━━━\u001b[0m \u001b[32m7.8/7.8 MB\u001b[0m \u001b[31m102.9 MB/s\u001b[0m eta \u001b[36m0:00:00\u001b[0m\n",
            "\u001b[?25hCollecting safetensors>=0.3.1 (from transformers)\n",
            "  Downloading safetensors-0.3.1-cp310-cp310-manylinux_2_17_x86_64.manylinux2014_x86_64.whl (1.3 MB)\n",
            "\u001b[2K     \u001b[90m━━━━━━━━━━━━━━━━━━━━━━━━━━━━━━━━━━━━━━━━\u001b[0m \u001b[32m1.3/1.3 MB\u001b[0m \u001b[31m79.5 MB/s\u001b[0m eta \u001b[36m0:00:00\u001b[0m\n",
            "\u001b[?25hRequirement already satisfied: tqdm>=4.27 in /usr/local/lib/python3.10/dist-packages (from transformers) (4.65.0)\n",
            "Requirement already satisfied: fsspec in /usr/local/lib/python3.10/dist-packages (from huggingface-hub<1.0,>=0.14.1->transformers) (2023.6.0)\n",
            "Requirement already satisfied: typing-extensions>=3.7.4.3 in /usr/local/lib/python3.10/dist-packages (from huggingface-hub<1.0,>=0.14.1->transformers) (4.7.1)\n",
            "Requirement already satisfied: urllib3<1.27,>=1.21.1 in /usr/local/lib/python3.10/dist-packages (from requests->transformers) (1.26.16)\n",
            "Requirement already satisfied: certifi>=2017.4.17 in /usr/local/lib/python3.10/dist-packages (from requests->transformers) (2023.7.22)\n",
            "Requirement already satisfied: charset-normalizer~=2.0.0 in /usr/local/lib/python3.10/dist-packages (from requests->transformers) (2.0.12)\n",
            "Requirement already satisfied: idna<4,>=2.5 in /usr/local/lib/python3.10/dist-packages (from requests->transformers) (3.4)\n",
            "Installing collected packages: tokenizers, safetensors, huggingface-hub, transformers\n",
            "Successfully installed huggingface-hub-0.16.4 safetensors-0.3.1 tokenizers-0.13.3 transformers-4.31.0\n",
            "Collecting sentencepiece\n",
            "  Downloading sentencepiece-0.1.99-cp310-cp310-manylinux_2_17_x86_64.manylinux2014_x86_64.whl (1.3 MB)\n",
            "\u001b[2K     \u001b[90m━━━━━━━━━━━━━━━━━━━━━━━━━━━━━━━━━━━━━━━━\u001b[0m \u001b[32m1.3/1.3 MB\u001b[0m \u001b[31m10.9 MB/s\u001b[0m eta \u001b[36m0:00:00\u001b[0m\n",
            "\u001b[?25hInstalling collected packages: sentencepiece\n",
            "Successfully installed sentencepiece-0.1.99\n",
            "Collecting lmppl\n",
            "  Downloading lmppl-0.3.1.tar.gz (11 kB)\n",
            "  Preparing metadata (setup.py) ... \u001b[?25l\u001b[?25hdone\n",
            "Requirement already satisfied: torch in /usr/local/lib/python3.10/dist-packages (from lmppl) (2.0.1+cu118)\n",
            "Requirement already satisfied: tqdm in /usr/local/lib/python3.10/dist-packages (from lmppl) (4.65.0)\n",
            "Requirement already satisfied: requests in /usr/local/lib/python3.10/dist-packages (from lmppl) (2.27.1)\n",
            "Requirement already satisfied: transformers in /usr/local/lib/python3.10/dist-packages (from lmppl) (4.31.0)\n",
            "Requirement already satisfied: sentencepiece in /usr/local/lib/python3.10/dist-packages (from lmppl) (0.1.99)\n",
            "Collecting accelerate (from lmppl)\n",
            "  Downloading accelerate-0.21.0-py3-none-any.whl (244 kB)\n",
            "\u001b[2K     \u001b[90m━━━━━━━━━━━━━━━━━━━━━━━━━━━━━━━━━━━━━━━\u001b[0m \u001b[32m244.2/244.2 kB\u001b[0m \u001b[31m4.7 MB/s\u001b[0m eta \u001b[36m0:00:00\u001b[0m\n",
            "\u001b[?25hCollecting openai (from lmppl)\n",
            "  Downloading openai-0.27.8-py3-none-any.whl (73 kB)\n",
            "\u001b[2K     \u001b[90m━━━━━━━━━━━━━━━━━━━━━━━━━━━━━━━━━━━━━━━━\u001b[0m \u001b[32m73.6/73.6 kB\u001b[0m \u001b[31m11.8 MB/s\u001b[0m eta \u001b[36m0:00:00\u001b[0m\n",
            "\u001b[?25hCollecting protobuf<3.20 (from lmppl)\n",
            "  Downloading protobuf-3.19.6-cp310-cp310-manylinux_2_17_x86_64.manylinux2014_x86_64.whl (1.1 MB)\n",
            "\u001b[2K     \u001b[90m━━━━━━━━━━━━━━━━━━━━━━━━━━━━━━━━━━━━━━━━\u001b[0m \u001b[32m1.1/1.1 MB\u001b[0m \u001b[31m74.4 MB/s\u001b[0m eta \u001b[36m0:00:00\u001b[0m\n",
            "\u001b[?25hRequirement already satisfied: numpy>=1.17 in /usr/local/lib/python3.10/dist-packages (from accelerate->lmppl) (1.22.4)\n",
            "Requirement already satisfied: packaging>=20.0 in /usr/local/lib/python3.10/dist-packages (from accelerate->lmppl) (23.1)\n",
            "Requirement already satisfied: psutil in /usr/local/lib/python3.10/dist-packages (from accelerate->lmppl) (5.9.5)\n",
            "Requirement already satisfied: pyyaml in /usr/local/lib/python3.10/dist-packages (from accelerate->lmppl) (6.0.1)\n",
            "Requirement already satisfied: filelock in /usr/local/lib/python3.10/dist-packages (from torch->lmppl) (3.12.2)\n",
            "Requirement already satisfied: typing-extensions in /usr/local/lib/python3.10/dist-packages (from torch->lmppl) (4.7.1)\n",
            "Requirement already satisfied: sympy in /usr/local/lib/python3.10/dist-packages (from torch->lmppl) (1.11.1)\n",
            "Requirement already satisfied: networkx in /usr/local/lib/python3.10/dist-packages (from torch->lmppl) (3.1)\n",
            "Requirement already satisfied: jinja2 in /usr/local/lib/python3.10/dist-packages (from torch->lmppl) (3.1.2)\n",
            "Requirement already satisfied: triton==2.0.0 in /usr/local/lib/python3.10/dist-packages (from torch->lmppl) (2.0.0)\n",
            "Requirement already satisfied: cmake in /usr/local/lib/python3.10/dist-packages (from triton==2.0.0->torch->lmppl) (3.25.2)\n",
            "Requirement already satisfied: lit in /usr/local/lib/python3.10/dist-packages (from triton==2.0.0->torch->lmppl) (16.0.6)\n",
            "Requirement already satisfied: aiohttp in /usr/local/lib/python3.10/dist-packages (from openai->lmppl) (3.8.5)\n",
            "Requirement already satisfied: urllib3<1.27,>=1.21.1 in /usr/local/lib/python3.10/dist-packages (from requests->lmppl) (1.26.16)\n",
            "Requirement already satisfied: certifi>=2017.4.17 in /usr/local/lib/python3.10/dist-packages (from requests->lmppl) (2023.7.22)\n",
            "Requirement already satisfied: charset-normalizer~=2.0.0 in /usr/local/lib/python3.10/dist-packages (from requests->lmppl) (2.0.12)\n",
            "Requirement already satisfied: idna<4,>=2.5 in /usr/local/lib/python3.10/dist-packages (from requests->lmppl) (3.4)\n",
            "Requirement already satisfied: huggingface-hub<1.0,>=0.14.1 in /usr/local/lib/python3.10/dist-packages (from transformers->lmppl) (0.16.4)\n",
            "Requirement already satisfied: regex!=2019.12.17 in /usr/local/lib/python3.10/dist-packages (from transformers->lmppl) (2022.10.31)\n",
            "Requirement already satisfied: tokenizers!=0.11.3,<0.14,>=0.11.1 in /usr/local/lib/python3.10/dist-packages (from transformers->lmppl) (0.13.3)\n",
            "Requirement already satisfied: safetensors>=0.3.1 in /usr/local/lib/python3.10/dist-packages (from transformers->lmppl) (0.3.1)\n",
            "Requirement already satisfied: fsspec in /usr/local/lib/python3.10/dist-packages (from huggingface-hub<1.0,>=0.14.1->transformers->lmppl) (2023.6.0)\n",
            "Requirement already satisfied: attrs>=17.3.0 in /usr/local/lib/python3.10/dist-packages (from aiohttp->openai->lmppl) (23.1.0)\n",
            "Requirement already satisfied: multidict<7.0,>=4.5 in /usr/local/lib/python3.10/dist-packages (from aiohttp->openai->lmppl) (6.0.4)\n",
            "Requirement already satisfied: async-timeout<5.0,>=4.0.0a3 in /usr/local/lib/python3.10/dist-packages (from aiohttp->openai->lmppl) (4.0.2)\n",
            "Requirement already satisfied: yarl<2.0,>=1.0 in /usr/local/lib/python3.10/dist-packages (from aiohttp->openai->lmppl) (1.9.2)\n",
            "Requirement already satisfied: frozenlist>=1.1.1 in /usr/local/lib/python3.10/dist-packages (from aiohttp->openai->lmppl) (1.4.0)\n",
            "Requirement already satisfied: aiosignal>=1.1.2 in /usr/local/lib/python3.10/dist-packages (from aiohttp->openai->lmppl) (1.3.1)\n",
            "Requirement already satisfied: MarkupSafe>=2.0 in /usr/local/lib/python3.10/dist-packages (from jinja2->torch->lmppl) (2.1.3)\n",
            "Requirement already satisfied: mpmath>=0.19 in /usr/local/lib/python3.10/dist-packages (from sympy->torch->lmppl) (1.3.0)\n",
            "Building wheels for collected packages: lmppl\n",
            "  Building wheel for lmppl (setup.py) ... \u001b[?25l\u001b[?25hdone\n",
            "  Created wheel for lmppl: filename=lmppl-0.3.1-py3-none-any.whl size=13113 sha256=191aef3d5cb6cf4f9b1292d0a4e072db78e87e148bcf1ac24173554888834bf9\n",
            "  Stored in directory: /root/.cache/pip/wheels/c2/19/b5/3ff20891be9a8cb50595b6d4d37b819be0cbe71ddcea9ac10c\n",
            "Successfully built lmppl\n",
            "Installing collected packages: protobuf, openai, accelerate, lmppl\n",
            "  Attempting uninstall: protobuf\n",
            "    Found existing installation: protobuf 3.20.3\n",
            "    Uninstalling protobuf-3.20.3:\n",
            "      Successfully uninstalled protobuf-3.20.3\n",
            "\u001b[31mERROR: pip's dependency resolver does not currently take into account all the packages that are installed. This behaviour is the source of the following dependency conflicts.\n",
            "tensorflow 2.12.0 requires protobuf!=4.21.0,!=4.21.1,!=4.21.2,!=4.21.3,!=4.21.4,!=4.21.5,<5.0.0dev,>=3.20.3, but you have protobuf 3.19.6 which is incompatible.\n",
            "tensorflow-datasets 4.9.2 requires protobuf>=3.20, but you have protobuf 3.19.6 which is incompatible.\n",
            "tensorflow-metadata 1.13.1 requires protobuf<5,>=3.20.3, but you have protobuf 3.19.6 which is incompatible.\u001b[0m\u001b[31m\n",
            "\u001b[0mSuccessfully installed accelerate-0.21.0 lmppl-0.3.1 openai-0.27.8 protobuf-3.19.6\n"
          ]
        },
        {
          "output_type": "display_data",
          "data": {
            "application/vnd.colab-display-data+json": {
              "pip_warning": {
                "packages": [
                  "google"
                ]
              }
            }
          },
          "metadata": {}
        },
        {
          "output_type": "stream",
          "name": "stdout",
          "text": [
            "Collecting datasets\n",
            "  Downloading datasets-2.14.2-py3-none-any.whl (518 kB)\n",
            "\u001b[2K     \u001b[90m━━━━━━━━━━━━━━━━━━━━━━━━━━━━━━━━━━━━━━━\u001b[0m \u001b[32m518.9/518.9 kB\u001b[0m \u001b[31m6.1 MB/s\u001b[0m eta \u001b[36m0:00:00\u001b[0m\n",
            "\u001b[?25hRequirement already satisfied: numpy>=1.17 in /usr/local/lib/python3.10/dist-packages (from datasets) (1.22.4)\n",
            "Requirement already satisfied: pyarrow>=8.0.0 in /usr/local/lib/python3.10/dist-packages (from datasets) (9.0.0)\n",
            "Collecting dill<0.3.8,>=0.3.0 (from datasets)\n",
            "  Downloading dill-0.3.7-py3-none-any.whl (115 kB)\n",
            "\u001b[2K     \u001b[90m━━━━━━━━━━━━━━━━━━━━━━━━━━━━━━━━━━━━━━\u001b[0m \u001b[32m115.3/115.3 kB\u001b[0m \u001b[31m18.2 MB/s\u001b[0m eta \u001b[36m0:00:00\u001b[0m\n",
            "\u001b[?25hRequirement already satisfied: pandas in /usr/local/lib/python3.10/dist-packages (from datasets) (1.5.3)\n",
            "Requirement already satisfied: requests>=2.19.0 in /usr/local/lib/python3.10/dist-packages (from datasets) (2.27.1)\n",
            "Requirement already satisfied: tqdm>=4.62.1 in /usr/local/lib/python3.10/dist-packages (from datasets) (4.65.0)\n",
            "Collecting xxhash (from datasets)\n",
            "  Downloading xxhash-3.3.0-cp310-cp310-manylinux_2_17_x86_64.manylinux2014_x86_64.whl (194 kB)\n",
            "\u001b[2K     \u001b[90m━━━━━━━━━━━━━━━━━━━━━━━━━━━━━━━━━━━━━━\u001b[0m \u001b[32m194.1/194.1 kB\u001b[0m \u001b[31m23.7 MB/s\u001b[0m eta \u001b[36m0:00:00\u001b[0m\n",
            "\u001b[?25hCollecting multiprocess (from datasets)\n",
            "  Downloading multiprocess-0.70.15-py310-none-any.whl (134 kB)\n",
            "\u001b[2K     \u001b[90m━━━━━━━━━━━━━━━━━━━━━━━━━━━━━━━━━━━━━━\u001b[0m \u001b[32m134.8/134.8 kB\u001b[0m \u001b[31m17.4 MB/s\u001b[0m eta \u001b[36m0:00:00\u001b[0m\n",
            "\u001b[?25hRequirement already satisfied: fsspec[http]>=2021.11.1 in /usr/local/lib/python3.10/dist-packages (from datasets) (2023.6.0)\n",
            "Requirement already satisfied: aiohttp in /usr/local/lib/python3.10/dist-packages (from datasets) (3.8.5)\n",
            "Requirement already satisfied: huggingface-hub<1.0.0,>=0.14.0 in /usr/local/lib/python3.10/dist-packages (from datasets) (0.16.4)\n",
            "Requirement already satisfied: packaging in /usr/local/lib/python3.10/dist-packages (from datasets) (23.1)\n",
            "Requirement already satisfied: pyyaml>=5.1 in /usr/local/lib/python3.10/dist-packages (from datasets) (6.0.1)\n",
            "Requirement already satisfied: attrs>=17.3.0 in /usr/local/lib/python3.10/dist-packages (from aiohttp->datasets) (23.1.0)\n",
            "Requirement already satisfied: charset-normalizer<4.0,>=2.0 in /usr/local/lib/python3.10/dist-packages (from aiohttp->datasets) (2.0.12)\n",
            "Requirement already satisfied: multidict<7.0,>=4.5 in /usr/local/lib/python3.10/dist-packages (from aiohttp->datasets) (6.0.4)\n",
            "Requirement already satisfied: async-timeout<5.0,>=4.0.0a3 in /usr/local/lib/python3.10/dist-packages (from aiohttp->datasets) (4.0.2)\n",
            "Requirement already satisfied: yarl<2.0,>=1.0 in /usr/local/lib/python3.10/dist-packages (from aiohttp->datasets) (1.9.2)\n",
            "Requirement already satisfied: frozenlist>=1.1.1 in /usr/local/lib/python3.10/dist-packages (from aiohttp->datasets) (1.4.0)\n",
            "Requirement already satisfied: aiosignal>=1.1.2 in /usr/local/lib/python3.10/dist-packages (from aiohttp->datasets) (1.3.1)\n",
            "Requirement already satisfied: filelock in /usr/local/lib/python3.10/dist-packages (from huggingface-hub<1.0.0,>=0.14.0->datasets) (3.12.2)\n",
            "Requirement already satisfied: typing-extensions>=3.7.4.3 in /usr/local/lib/python3.10/dist-packages (from huggingface-hub<1.0.0,>=0.14.0->datasets) (4.7.1)\n",
            "Requirement already satisfied: urllib3<1.27,>=1.21.1 in /usr/local/lib/python3.10/dist-packages (from requests>=2.19.0->datasets) (1.26.16)\n",
            "Requirement already satisfied: certifi>=2017.4.17 in /usr/local/lib/python3.10/dist-packages (from requests>=2.19.0->datasets) (2023.7.22)\n",
            "Requirement already satisfied: idna<4,>=2.5 in /usr/local/lib/python3.10/dist-packages (from requests>=2.19.0->datasets) (3.4)\n",
            "Requirement already satisfied: python-dateutil>=2.8.1 in /usr/local/lib/python3.10/dist-packages (from pandas->datasets) (2.8.2)\n",
            "Requirement already satisfied: pytz>=2020.1 in /usr/local/lib/python3.10/dist-packages (from pandas->datasets) (2022.7.1)\n",
            "Requirement already satisfied: six>=1.5 in /usr/local/lib/python3.10/dist-packages (from python-dateutil>=2.8.1->pandas->datasets) (1.16.0)\n",
            "Installing collected packages: xxhash, dill, multiprocess, datasets\n",
            "Successfully installed datasets-2.14.2 dill-0.3.7 multiprocess-0.70.15 xxhash-3.3.0\n",
            "Collecting protobuf==3.20.1\n",
            "  Downloading protobuf-3.20.1-cp310-cp310-manylinux_2_12_x86_64.manylinux2010_x86_64.whl (1.1 MB)\n",
            "\u001b[2K     \u001b[90m━━━━━━━━━━━━━━━━━━━━━━━━━━━━━━━━━━━━━━━━\u001b[0m \u001b[32m1.1/1.1 MB\u001b[0m \u001b[31m17.3 MB/s\u001b[0m eta \u001b[36m0:00:00\u001b[0m\n",
            "\u001b[?25hInstalling collected packages: protobuf\n",
            "  Attempting uninstall: protobuf\n",
            "    Found existing installation: protobuf 3.19.6\n",
            "    Uninstalling protobuf-3.19.6:\n",
            "      Successfully uninstalled protobuf-3.19.6\n",
            "\u001b[31mERROR: pip's dependency resolver does not currently take into account all the packages that are installed. This behaviour is the source of the following dependency conflicts.\n",
            "google-api-core 2.11.1 requires protobuf!=3.20.0,!=3.20.1,!=4.21.0,!=4.21.1,!=4.21.2,!=4.21.3,!=4.21.4,!=4.21.5,<5.0.0.dev0,>=3.19.5, but you have protobuf 3.20.1 which is incompatible.\n",
            "google-cloud-bigquery 3.10.0 requires protobuf!=3.20.0,!=3.20.1,!=4.21.0,!=4.21.1,!=4.21.2,!=4.21.3,!=4.21.4,!=4.21.5,<5.0.0dev,>=3.19.5, but you have protobuf 3.20.1 which is incompatible.\n",
            "google-cloud-bigquery-connection 1.12.1 requires protobuf!=3.20.0,!=3.20.1,!=4.21.0,!=4.21.1,!=4.21.2,!=4.21.3,!=4.21.4,!=4.21.5,<5.0.0dev,>=3.19.5, but you have protobuf 3.20.1 which is incompatible.\n",
            "google-cloud-bigquery-storage 2.22.0 requires protobuf!=3.20.0,!=3.20.1,!=4.21.0,!=4.21.1,!=4.21.2,!=4.21.3,!=4.21.4,!=4.21.5,<5.0.0dev,>=3.19.5, but you have protobuf 3.20.1 which is incompatible.\n",
            "google-cloud-datastore 2.15.2 requires protobuf!=3.20.0,!=3.20.1,!=4.21.0,!=4.21.1,!=4.21.2,!=4.21.3,!=4.21.4,!=4.21.5,<5.0.0dev,>=3.19.5, but you have protobuf 3.20.1 which is incompatible.\n",
            "google-cloud-firestore 2.11.1 requires protobuf!=3.20.0,!=3.20.1,!=4.21.0,!=4.21.1,!=4.21.2,!=4.21.3,!=4.21.4,!=4.21.5,<5.0.0dev,>=3.19.5, but you have protobuf 3.20.1 which is incompatible.\n",
            "google-cloud-functions 1.13.1 requires protobuf!=3.20.0,!=3.20.1,!=4.21.0,!=4.21.1,!=4.21.2,!=4.21.3,!=4.21.4,!=4.21.5,<5.0.0dev,>=3.19.5, but you have protobuf 3.20.1 which is incompatible.\n",
            "google-cloud-language 2.9.1 requires protobuf!=3.20.0,!=3.20.1,!=4.21.0,!=4.21.1,!=4.21.2,!=4.21.3,!=4.21.4,!=4.21.5,<5.0.0dev,>=3.19.5, but you have protobuf 3.20.1 which is incompatible.\n",
            "google-cloud-translate 3.11.2 requires protobuf!=3.20.0,!=3.20.1,!=4.21.0,!=4.21.1,!=4.21.2,!=4.21.3,!=4.21.4,!=4.21.5,<5.0.0dev,>=3.19.5, but you have protobuf 3.20.1 which is incompatible.\n",
            "googleapis-common-protos 1.59.1 requires protobuf!=3.20.0,!=3.20.1,!=4.21.1,!=4.21.2,!=4.21.3,!=4.21.4,!=4.21.5,<5.0.0.dev0,>=3.19.5, but you have protobuf 3.20.1 which is incompatible.\n",
            "grpc-google-iam-v1 0.12.6 requires protobuf!=3.20.0,!=3.20.1,!=4.21.1,!=4.21.2,!=4.21.3,!=4.21.4,!=4.21.5,<5.0.0dev,>=3.19.5, but you have protobuf 3.20.1 which is incompatible.\n",
            "lmppl 0.3.1 requires protobuf<3.20, but you have protobuf 3.20.1 which is incompatible.\n",
            "tensorflow 2.12.0 requires protobuf!=4.21.0,!=4.21.1,!=4.21.2,!=4.21.3,!=4.21.4,!=4.21.5,<5.0.0dev,>=3.20.3, but you have protobuf 3.20.1 which is incompatible.\n",
            "tensorflow-metadata 1.13.1 requires protobuf<5,>=3.20.3, but you have protobuf 3.20.1 which is incompatible.\u001b[0m\u001b[31m\n",
            "\u001b[0mSuccessfully installed protobuf-3.20.1\n"
          ]
        },
        {
          "output_type": "display_data",
          "data": {
            "application/vnd.colab-display-data+json": {
              "pip_warning": {
                "packages": [
                  "google"
                ]
              }
            }
          },
          "metadata": {}
        }
      ],
      "source": [
        "!pip install transformers\n",
        "!pip install sentencepiece\n",
        "!pip install lmppl\n",
        "!pip install datasets\n",
        "!pip install --force-reinstall protobuf==3.20.1"
      ]
    },
    {
      "cell_type": "code",
      "source": [
        "!git clone https://github.com/jwkirchenbauer/lm-watermarking.git"
      ],
      "metadata": {
        "colab": {
          "base_uri": "https://localhost:8080/"
        },
        "id": "eoJLv65hROY8",
        "outputId": "33b20159-6b72-4aab-9dc5-9927850306da"
      },
      "execution_count": 2,
      "outputs": [
        {
          "output_type": "stream",
          "name": "stdout",
          "text": [
            "Cloning into 'lm-watermarking'...\n",
            "remote: Enumerating objects: 313, done.\u001b[K\n",
            "remote: Counting objects: 100% (25/25), done.\u001b[K\n",
            "remote: Compressing objects: 100% (20/20), done.\u001b[K\n",
            "remote: Total 313 (delta 10), reused 5 (delta 5), pack-reused 288\u001b[K\n",
            "Receiving objects: 100% (313/313), 11.98 MiB | 9.12 MiB/s, done.\n",
            "Resolving deltas: 100% (87/87), done.\n"
          ]
        }
      ]
    },
    {
      "cell_type": "code",
      "source": [
        "%load_ext autoreload\n",
        "%autoreload 2"
      ],
      "metadata": {
        "id": "IoRf_P6rvgMH"
      },
      "execution_count": 30,
      "outputs": []
    },
    {
      "cell_type": "code",
      "source": [
        "import sys\n",
        "sys.path.insert(0, \"/content/watermark_language_models\")"
      ],
      "metadata": {
        "id": "dTQDmTyhWXJr"
      },
      "execution_count": 1,
      "outputs": []
    },
    {
      "cell_type": "markdown",
      "source": [
        "## CNN dataset"
      ],
      "metadata": {
        "id": "e8Z93aVU0hXu"
      }
    },
    {
      "cell_type": "code",
      "source": [
        "from datasets import load_dataset"
      ],
      "metadata": {
        "id": "Hbf8_btBXr5m"
      },
      "execution_count": 11,
      "outputs": []
    },
    {
      "cell_type": "code",
      "source": [
        "ds = load_dataset('cnn_dailymail', '3.0.0')"
      ],
      "metadata": {
        "id": "1OGYFKGv0zI3"
      },
      "execution_count": 12,
      "outputs": []
    },
    {
      "cell_type": "code",
      "source": [
        "articles = [d['article'] for d in ds['train']]\n",
        "summaries = [d['highlights'] for d in ds['train']]"
      ],
      "metadata": {
        "id": "cn79BQ-70z5j"
      },
      "execution_count": 13,
      "outputs": []
    },
    {
      "cell_type": "code",
      "source": [
        "len(articles) == len(summaries)"
      ],
      "metadata": {
        "colab": {
          "base_uri": "https://localhost:8080/"
        },
        "id": "TszaevrPJcrX",
        "outputId": "5e8e1684-fee6-4022-c589-1bd568d39684"
      },
      "execution_count": 14,
      "outputs": [
        {
          "output_type": "execute_result",
          "data": {
            "text/plain": [
              "True"
            ]
          },
          "metadata": {},
          "execution_count": 14
        }
      ]
    },
    {
      "cell_type": "markdown",
      "source": [
        "## Run expriments"
      ],
      "metadata": {
        "id": "Ma4nNMxOsxrA"
      }
    },
    {
      "cell_type": "code",
      "source": [
        "!git clone https://github.com/pouya-parsa/watermark_language_models.git"
      ],
      "metadata": {
        "colab": {
          "base_uri": "https://localhost:8080/"
        },
        "id": "M1YCYTk7IKD2",
        "outputId": "f9057dc5-2a10-40f6-ca34-6946e6c4eff4"
      },
      "execution_count": 1,
      "outputs": [
        {
          "output_type": "stream",
          "name": "stdout",
          "text": [
            "Cloning into 'watermark_language_models'...\n",
            "remote: Enumerating objects: 42, done.\u001b[K\n",
            "remote: Counting objects: 100% (42/42), done.\u001b[K\n",
            "remote: Compressing objects: 100% (31/31), done.\u001b[K\n",
            "remote: Total 42 (delta 16), reused 36 (delta 10), pack-reused 0\u001b[K\n",
            "Receiving objects: 100% (42/42), 395.39 KiB | 17.97 MiB/s, done.\n",
            "Resolving deltas: 100% (16/16), done.\n"
          ]
        }
      ]
    },
    {
      "cell_type": "code",
      "source": [
        "import numpy as np"
      ],
      "metadata": {
        "id": "X0kf5D8lqI4I"
      },
      "execution_count": 15,
      "outputs": []
    },
    {
      "cell_type": "code",
      "source": [
        "np.random.seed(42)\n",
        "idx = np.random.choice(len(articles), 1_000, replace=False)\n",
        "idx"
      ],
      "metadata": {
        "colab": {
          "base_uri": "https://localhost:8080/"
        },
        "id": "RMQfNBldr7k0",
        "outputId": "3a98dfdf-677d-4bb3-ca24-0468b33bfab7"
      },
      "execution_count": 16,
      "outputs": [
        {
          "output_type": "execute_result",
          "data": {
            "text/plain": [
              "array([272581,    772, 171868,  63167,  68522,  81888,  64374,   3425,\n",
              "        74122, 207965, 209080, 131862, 275884, 150335, 277076, 135896,\n",
              "       222229, 164294, 271501,  98483, 116314, 258665,  27906, 238624,\n",
              "       285857, 116191,   7588, 110438, 137976, 275578, 137193, 240723,\n",
              "       165626, 282569, 119592, 171339, 100152, 189929, 123984, 179115,\n",
              "       224845,  30489,  49267, 193549,  74687, 149451,  78787, 198294,\n",
              "       217566, 214898,  42460, 243039,  17884,  84554,  57661, 228573,\n",
              "        10347,  54262, 236103,  63766,  20546, 249229,  68937, 126132,\n",
              "       228972,  51909, 255614, 270437, 114625, 134894,   3913,  52630,\n",
              "       197398, 118890, 276021, 130203, 246004,  60813,  48207, 146650,\n",
              "        67071, 137651, 246640, 272925, 228082,  42261, 248001,  64351,\n",
              "       224196,  92081, 156154, 158791, 112405,  78348, 176709,  18797,\n",
              "       128133,  94921, 212561, 169584,  24707, 278619,  32019, 119685,\n",
              "       268401, 176003,  83735, 177293, 107981, 228780, 155719, 162841,\n",
              "       197179, 262628,  43708,  28195, 130311,  35343, 249178,  53896,\n",
              "        60655, 176396,  54912, 153716, 245067, 118378, 151156, 181270,\n",
              "        14256,  84734, 204873, 170135, 235187, 177707,  73504, 108076,\n",
              "        41491, 162410, 251266,  42973, 217167, 273455, 260865, 254111,\n",
              "        51355, 254869, 101341, 242008, 264335, 272998,  39742,  42459,\n",
              "        73774, 188696,  53038, 208237,     16, 215972, 177245, 104497,\n",
              "       267799,  91557, 224813, 218805,  80948, 268820, 255206, 159483,\n",
              "       170502, 220905, 103635, 204406, 123975, 169622, 259453,  83563,\n",
              "       158716,  45390, 200031, 180000, 215590,  22683, 141898, 237584,\n",
              "       145852, 113309, 135465,  20788, 174818, 224512, 141640, 173344,\n",
              "       168886, 152614, 270354,  53658, 202202,  32523,  94490,  26740,\n",
              "        20453, 270973, 246253, 277775,  76807,  89712, 262467,   7540,\n",
              "       210302, 183028,  70101, 267012, 266065,  10635, 251404, 265452,\n",
              "       229967, 263397, 237205,  39976, 243893, 272389,  22042, 108918,\n",
              "       184450,  94387, 269508, 225955,  81262,  37841, 234110, 280370,\n",
              "        89880, 182074, 102090,  46181, 151811,  49818, 271571,  60316,\n",
              "       225765, 228105, 275981, 212296, 111081, 206064, 182915, 252267,\n",
              "        42710,  99698, 110098, 281812,    920, 175130, 128751, 175624,\n",
              "        66969,  92148, 118943,   1105, 136625, 151238, 134371,   4660,\n",
              "       116822,   4250,  31166, 127847,  16563, 245799,    286, 175142,\n",
              "       135641, 257549,  93788,  21545,  17819,  21700, 115439, 155326,\n",
              "       268311, 198448,  71768,  77964, 193998,  12091, 207466, 150254,\n",
              "       254728, 172147, 201835, 133930, 220559, 224270, 114887, 192384,\n",
              "       160900,  37691, 181278, 136230, 190339, 267375, 180411, 110003,\n",
              "       162164, 252029, 270922, 112504, 189304, 196625,  45519,  30664,\n",
              "       101352, 271066,  83498, 184664,  46314, 251727, 255816, 127332,\n",
              "       268673, 279299,  16992, 251021, 136212, 143383, 141054, 184609,\n",
              "       210270, 257413,  67599, 171588, 168180, 192844, 101113, 206756,\n",
              "          847, 138956,  42396, 257796,  86240, 201116,  82960, 141432,\n",
              "        11648, 248589, 270422,  84495,   1460, 163162,  84119, 163196,\n",
              "        64164, 124512, 128062, 109460,  73722,  47145, 284714, 156251,\n",
              "       211683, 111680,  52628, 108682,  79890,  94505,  88775, 194095,\n",
              "       193503, 159795,  48436, 212689,  75515, 165993,   1582, 268936,\n",
              "       128737, 249799, 206404, 224456, 220033,  21133, 126911, 123324,\n",
              "         4565,  68502, 133388,  16543, 124528, 147594,  65386, 273952,\n",
              "       254275,  28801, 110059, 179389,  70964, 210698,  59819,  19532,\n",
              "       160702, 122296, 178896, 256020, 173121, 225776, 202769,  84789,\n",
              "        25140, 184539, 120114, 186121, 166448,  85215,  54829, 106168,\n",
              "        47673, 199880, 228034, 266798,  94032, 243727, 166312, 108062,\n",
              "       210281,   1995,  55657, 257359, 258688,  17120, 186942, 151966,\n",
              "       226061, 144791,   4779, 286795, 253502, 200068,  72324, 274220,\n",
              "        65517, 240193,  57596,  95718, 183317, 208398,  19200,  74124,\n",
              "       149403, 108711, 119561, 256122, 176130, 203957, 229729, 124484,\n",
              "        71657, 253273, 113340,  97019, 190533,  24161,  16295, 129178,\n",
              "       258777, 199735,  10605,  73893, 129025,   2633, 108248,  99035,\n",
              "        17012, 154677, 246188, 108489, 266615,  42730,  14930,  78478,\n",
              "        11803, 219761, 245306,  10530, 146653, 177295, 110920,  76514,\n",
              "       227291, 273183,  14147, 150660, 160819,  50702,   4848,  46544,\n",
              "       200836, 153228, 253753,  70945, 253161, 245021, 224557, 107583,\n",
              "        46008, 159756, 165158,  73674, 152471, 103596, 136747,  37190,\n",
              "       204502, 190417,  33218, 141955,  66089, 227191, 106776,  60607,\n",
              "        17436, 177931,  18872, 259054,  64125,  85757, 247606, 123394,\n",
              "       260741, 151936, 151106, 134805, 162091, 113387, 103263,  33246,\n",
              "       148312, 206423,  92501, 190004,  39040, 132400, 276932, 139641,\n",
              "       249580,  32854, 211747, 150725, 185479, 151179,  17045, 286945,\n",
              "        28287, 187399, 283523, 248612,  92158,  89195, 107961, 204062,\n",
              "        68528, 143709, 168321, 268522,  20763, 256931,  71488, 109424,\n",
              "       100802,  42826,  31760,  43865,  61327, 105625, 105124, 271680,\n",
              "       264530,  73122, 124948, 265714, 252505, 238851, 230660, 145499,\n",
              "        98717, 271082,  84729, 106656, 214436,  49664,  71874,  12032,\n",
              "       217582, 237654, 243573,  83688, 109303, 182604, 104517, 152773,\n",
              "       257569, 192475,   3644, 119106, 143473,  15403, 118154, 271057,\n",
              "       280545, 234901, 286794, 124987,  30079, 250643, 170907, 270090,\n",
              "       182451, 238676, 182850, 205371, 235728, 150911, 102283, 286127,\n",
              "       171620, 222953,  25721, 183383, 241845, 152085,  88470,  99224,\n",
              "        49185, 163237, 263354, 249066, 205744, 118711, 280275,  59071,\n",
              "       229139,  72521,  60980, 225112,   1499, 174935,  62973, 140091,\n",
              "       115195, 225703, 249420, 234949, 113263, 168896,  65844,  99261,\n",
              "       151277, 148362, 159264, 172436, 129703,  83208,  52789,  67761,\n",
              "       144694,  67739,  79429, 230630,  48973,  24239, 206461,  50903,\n",
              "       131367,  35325, 116937, 241105, 165273, 265827, 196217,  79624,\n",
              "       132058, 112294,  47517, 150190, 280890, 204237, 237881, 169364,\n",
              "       148650, 261586,  66360, 248971,  49919, 148483, 107005, 137276,\n",
              "       219242,  20892, 132766, 258885,  59158,  46028, 242940,  13619,\n",
              "        31118, 281627, 133318, 114143, 117962,  82572,  47446, 208925,\n",
              "       101809, 239123, 118580, 254894,  50198, 116634, 128821, 128100,\n",
              "       204661, 180150,  18582,  68532,  85297, 110960, 239862,  94636,\n",
              "       269720, 189875, 271455,  27035, 129302,  39588, 193826,  32262,\n",
              "        11846, 285625, 254395,  68030, 221208,  69506,  51829, 213706,\n",
              "        29572, 193864,  80949, 267018, 171736, 126010, 237187, 242283,\n",
              "         3745, 207205, 181005, 250771, 214668,  77986,  21375,  76284,\n",
              "       260701, 105088,  15200,  17642, 188164,  25587, 122070, 152136,\n",
              "       212939, 248967,  65808, 151380, 254744, 283336, 155141, 101288,\n",
              "       203200, 242850, 217891,  83977, 137345, 232964, 146793, 275469,\n",
              "       190625, 193018, 217324, 260200, 179379, 258047,    238,  83862,\n",
              "       257175,   7939,   1053, 233924,  12720, 110125, 215230, 138750,\n",
              "       208173,  82769,  46816,  14597, 219142, 120493,  39320, 256114,\n",
              "       242090, 111424,   3933,  62105, 247456,  36816,  74620,  42233,\n",
              "        34246, 218777,    928,  17496, 101500,  45173, 141040,  42085,\n",
              "        34249, 116139,  86643, 142804,  22045, 123770,  28667,  36475,\n",
              "       178209,  92505, 265770, 263956, 179989, 117297,  50155, 191006,\n",
              "       214742, 249915, 234293, 248766,  87326, 153661,  40148,  16505,\n",
              "       284127, 211049, 110358,  87411, 225841, 228104, 262269, 140744,\n",
              "       115986, 117358, 142837, 261623,  33067,   1462, 262334, 114189,\n",
              "       126762,   7443,  87537,  22877,  15544,   4086, 215357, 119799,\n",
              "        48730, 249560, 264359,  89269, 148040,  13327,  64243, 161028,\n",
              "       155509, 210649,  94139, 201418, 216042, 100527,  57875,  43817,\n",
              "       187589, 240034, 226347,  60299, 139698, 245723,  74556, 132435,\n",
              "        79194, 133193,  59703,  97577, 175170, 111742, 274801, 147893,\n",
              "       215826, 265290,  78670, 281064, 169172,  80443, 146483, 208605,\n",
              "        78666, 278303, 246026,  24111, 143256, 269921, 236385, 160248,\n",
              "       117522, 120387, 117401, 246194,  76765, 123691,  32760, 250748,\n",
              "       240226, 273509, 142646, 122897, 219725,  67390, 142964, 166483,\n",
              "        63342, 156953, 231090, 174444, 223650, 200845,  71409, 169316,\n",
              "       224943, 270916, 143959,  28741, 220545, 145076, 231881, 242869,\n",
              "       256048, 270925, 164235, 260860, 286344, 239449, 141625, 147181,\n",
              "       194584,  66094, 255049, 202972, 229541,  65791,  83739, 267329,\n",
              "       214438, 110735,  83181, 102108,  83301, 156095, 125617, 139899,\n",
              "       138070,  58044, 123993,   9558, 216662, 223339, 142752, 254741,\n",
              "        80236, 265524, 154693,   9489,   8171,   1174,  80169, 222077,\n",
              "       188619,  34957,  10915,  21224,  57426, 223000, 267941, 181758])"
            ]
          },
          "metadata": {},
          "execution_count": 16
        }
      ]
    },
    {
      "cell_type": "code",
      "source": [
        "sampled_articles = [articles[i] for i in idx]\n",
        "sampled_summaries = [summaries[i] for i in idx]"
      ],
      "metadata": {
        "id": "MM8XUogBsWUQ"
      },
      "execution_count": 17,
      "outputs": []
    },
    {
      "cell_type": "code",
      "source": [
        "import sys\n",
        "sys.path.insert(0, \"/content/watermark_language_models\")"
      ],
      "metadata": {
        "id": "Ep9KI16F2oCa"
      },
      "execution_count": 2,
      "outputs": []
    },
    {
      "cell_type": "code",
      "source": [
        "import pickle\n",
        "from tqdm.auto import tqdm\n",
        "from summarizer import summarize, tokenizer"
      ],
      "metadata": {
        "id": "tmxXA3fFteY0",
        "colab": {
          "base_uri": "https://localhost:8080/"
        },
        "outputId": "db6a2d62-1f93-44da-98de-4b91f81324a6"
      },
      "execution_count": 7,
      "outputs": [
        {
          "output_type": "stream",
          "name": "stderr",
          "text": [
            "You are using the legacy behaviour of the <class 'transformers.models.t5.tokenization_t5.T5Tokenizer'>. This means that tokens that come after special tokens will not be properly handled. We recommend you to read the related pull request available at https://github.com/huggingface/transformers/pull/24565\n"
          ]
        }
      ]
    },
    {
      "cell_type": "code",
      "source": [
        "# text = \"\"\"\n",
        "# The tower is 324 metres (1,063 ft) tall, about the same height as an 81-storey building, and the tallest structure in Paris.\n",
        "#  Its base is square, measuring 125 metres (410 ft) on each side. It was the first structure to reach a height of 300 metres.\n",
        "#   Excluding transmitters, the Eiffel Tower is the second tallest free-standing structure in France after the Millau Viaduct.\n",
        "# \"\"\"\n",
        "# watermarked_summary = summarize(text, watermark=True)\n",
        "# print(watermarked_summary)\n",
        "# normal_summary = summarize(text, watermark=False)\n",
        "# print(normal_summary)"
      ],
      "metadata": {
        "id": "NC--ttTgvyeY"
      },
      "execution_count": null,
      "outputs": []
    },
    {
      "cell_type": "code",
      "source": [
        "delta_gamma = [\n",
        "    (5.0, 0.1), (5.0, 0.25), (5.0, 0.5), (5.0, 0.75), (5.0, 0.9),\n",
        "    (10, 0.25), (5.0, 0.25), (2.0, 0.25), (1.0, 0.25), (0.5, 0.25)\n",
        "]\n",
        "\n",
        "\n",
        "for (delta, gamma) in delta_gamma:\n",
        "    print(f\"gamma is {gamma} and delta is {delta} \\n\")\n",
        "    watermarked_sum = []\n",
        "    not_watermarked_sum = []\n",
        "    for article in tqdm(sampled_articles):\n",
        "      watermarked_sum.append(summarize(article, watermark=True))\n",
        "      # not_watermarked_sum.append(summarize(article, watermark=False))\n",
        "\n",
        "    filename = f\"gamma_{gamma}_delta_{delta}.pickle\"\n",
        "    with open(filename, \"wb\") as f:\n",
        "      pickle.dump({\n",
        "          \"watermarked\": watermarked_sum,\n",
        "          # \"not_watermarked_sum\": not_watermarked_sum\n",
        "    }, f)"
      ],
      "metadata": {
        "colab": {
          "base_uri": "https://localhost:8080/",
          "height": 84,
          "referenced_widgets": [
            "31db4254d5964fddb3840d4ff028b6c9",
            "1c528bdebcf343ae857d51a9ee99d2cb",
            "ee4ac33bb16342678ea6e25db4c4a31e",
            "4109c043267e41a0a6bc62b4cb2411a5",
            "fa0295d222a1483aa5740bfffcf56a08",
            "14e51f430c3b44338948807d83115bae",
            "3af0e8067a6d4ece96271a929ffec3df",
            "d21f3ba18f9e4dafa20f839648202d0d",
            "62e14204dbf2408b85b83fff8deea655",
            "1f1e0fba6db642a38f364186aaca3811",
            "e3c914cbebc648268b855eb0377888cb"
          ]
        },
        "id": "aitVvqnGsvi9",
        "outputId": "e1f1c36f-a0f9-471a-fffe-8ff11d5d514c"
      },
      "execution_count": 11,
      "outputs": [
        {
          "output_type": "stream",
          "name": "stdout",
          "text": [
            "gamma is 0.25 and delta is 0.5 \n",
            "\n"
          ]
        },
        {
          "output_type": "display_data",
          "data": {
            "text/plain": [
              "  0%|          | 0/1000 [00:00<?, ?it/s]"
            ],
            "application/vnd.jupyter.widget-view+json": {
              "version_major": 2,
              "version_minor": 0,
              "model_id": "31db4254d5964fddb3840d4ff028b6c9"
            }
          },
          "metadata": {}
        }
      ]
    },
    {
      "cell_type": "markdown",
      "source": [
        "## Average z-score as a function of T the token length of the generated text figure"
      ],
      "metadata": {
        "id": "gDExdrPxW9g4"
      }
    },
    {
      "cell_type": "code",
      "source": [
        "from utils import WatermarkDetectorClass\n",
        "import matplotlib.pyplot as plt\n",
        "import seaborn as sns\n",
        "import numpy as np\n",
        "sns.set_theme()"
      ],
      "metadata": {
        "id": "44YaqAacXBep",
        "colab": {
          "base_uri": "https://localhost:8080/"
        },
        "outputId": "01cc314b-4022-477f-e3ff-40dae7640e40"
      },
      "execution_count": 3,
      "outputs": [
        {
          "output_type": "stream",
          "name": "stderr",
          "text": [
            "/usr/local/lib/python3.10/dist-packages/transformers/tokenization_utils_base.py:1714: FutureWarning: The `use_auth_token` argument is deprecated and will be removed in v5 of Transformers.\n",
            "  warnings.warn(\n",
            "/usr/local/lib/python3.10/dist-packages/transformers/modeling_utils.py:2193: FutureWarning: The `use_auth_token` argument is deprecated and will be removed in v5 of Transformers.\n",
            "  warnings.warn(\n",
            "The argument `trust_remote_code` is to be used with Auto classes. It has no effect here and is ignored.\n"
          ]
        }
      ]
    },
    {
      "cell_type": "code",
      "source": [
        "gamma_values = [0.25]\n",
        "delta_values = [10, 5.0, 2.0, 1.0, 0.5]"
      ],
      "metadata": {
        "id": "tBZGPVyhXGxn"
      },
      "execution_count": 19,
      "outputs": []
    },
    {
      "cell_type": "code",
      "source": [
        "from collections import defaultdict\n",
        "\n",
        "class AverageDict(defaultdict):\n",
        "    def __init__(self):\n",
        "        super().__init__(list)\n",
        "\n",
        "    def add(self, key, value):\n",
        "        self[key].append(value)\n",
        "        self.get_avg(key)\n",
        "\n",
        "    def get_avg(self, key):\n",
        "        values = self[key]\n",
        "        self[key] = sum(values) / len(values)\n",
        "        return self[key]"
      ],
      "metadata": {
        "id": "HdtnWF81hp8a"
      },
      "execution_count": 17,
      "outputs": []
    },
    {
      "cell_type": "code",
      "source": [
        "def log_fit(x, y):\n",
        "  from scipy.optimize import curve_fit\n",
        "  def log_func(x, a, b):\n",
        "      return a * np.log(b*x)\n",
        "  popt, pcov = curve_fit(log_func, x, y)\n",
        "  y_fit = log_func(x, popt[0], popt[1])\n",
        "  return y_fit"
      ],
      "metadata": {
        "id": "ZYIp13kU1IiA"
      },
      "execution_count": 16,
      "outputs": []
    },
    {
      "cell_type": "code",
      "source": [
        "# fig, ax = plt.subplots()\n",
        "i = 0\n",
        "colors = ['r', 'g', 'b', 'c', 'm', 'y', 'darkorange', 'hotpink', 'limegreen']\n",
        "for gamma in gamma_values:\n",
        "  for delta in delta_values:\n",
        "    print(f\"gamma is {gamma} and delta is {delta} \\n\")\n",
        "    watermark_detector = WatermarkDetectorClass(tokenizer, gamma, \"cuda\")\n",
        "    with open(f\"gamma_{gamma}_delta_{delta}.pickle\", \"rb\") as f:\n",
        "      watermarked_outputs = pickle.load(f)[\"watermarked\"]\n",
        "    data_points = AverageDict()\n",
        "    for output in watermarked_outputs:\n",
        "      score_dict = watermark_detector.detect(output)\n",
        "      z_value = score_dict[\"z_score\"]\n",
        "      token_length = score_dict[\"num_tokens_scored\"]\n",
        "      data_points[token_length] = z_value\n",
        "\n",
        "    data_points = dict(data_points)\n",
        "    data_points = sorted(data_points.items(), key=lambda x: x[0])\n",
        "    data_points = dict(data_points)\n",
        "    x = np.array(list(data_points.keys()))\n",
        "    y = np.array(list(data_points.values()))\n",
        "    y_log = log_fit(x, y)\n",
        "    plt.plot(data_points.keys(), y_log, label=f'δ: {delta}, γ: {gamma}', c=colors[i], antialiased=True)\n",
        "    i += 1\n",
        "\n",
        "plt.xlabel(\"T\")\n",
        "plt.ylabel(\"Z-score\")\n",
        "plt.rcParams['axes.edgecolor'] = 'black'\n",
        "plt.rcParams['grid.color'] = 'gray'\n",
        "plt.grid(True)\n",
        "plt.legend()\n",
        "plt.show()"
      ],
      "metadata": {
        "colab": {
          "base_uri": "https://localhost:8080/",
          "height": 666
        },
        "id": "ZGlVcVLoRw5k",
        "outputId": "546efd08-3339-4ff1-d98c-ca9b4f317b61"
      },
      "execution_count": 25,
      "outputs": [
        {
          "output_type": "stream",
          "name": "stdout",
          "text": [
            "gamma is 0.25 and delta is 10 \n",
            "\n"
          ]
        },
        {
          "output_type": "stream",
          "name": "stderr",
          "text": [
            "<ipython-input-16-ed3481ae2522>:4: RuntimeWarning: invalid value encountered in log\n",
            "  return a * np.log(b*x)\n"
          ]
        },
        {
          "output_type": "stream",
          "name": "stdout",
          "text": [
            "gamma is 0.25 and delta is 5.0 \n",
            "\n",
            "gamma is 0.25 and delta is 2.0 \n",
            "\n",
            "gamma is 0.25 and delta is 1.0 \n",
            "\n",
            "gamma is 0.25 and delta is 0.5 \n",
            "\n"
          ]
        },
        {
          "output_type": "display_data",
          "data": {
            "text/plain": [
              "<Figure size 640x480 with 1 Axes>"
            ],
            "image/png": "[encoded data removed]"
          },
          "metadata": {}
        }
      ]
    },
    {
      "cell_type": "markdown",
      "source": [
        "## Tradeoff between average z-score and language model perplexity figure"
      ],
      "metadata": {
        "id": "2Kio3AGmRdhD"
      }
    },
    {
      "cell_type": "code",
      "source": [
        "from utils import get_perplexity"
      ],
      "metadata": {
        "id": "OOJn_VN7RlAD"
      },
      "execution_count": 8,
      "outputs": []
    },
    {
      "cell_type": "code",
      "source": [
        "delta_gamma = [\n",
        "    (5.0, 0.1), (5.0, 0.25), (5.0, 0.5), (5.0, 0.75), (5.0, 0.9),\n",
        "    (10, 0.25), (5.0, 0.25), (2.0, 0.25), (1.0, 0.25), (0.5, 0.25)\n",
        "]"
      ],
      "metadata": {
        "id": "qkUiTk4Ri9fQ"
      },
      "execution_count": 9,
      "outputs": []
    },
    {
      "cell_type": "code",
      "source": [
        "info = {}\n",
        "for (delta, gamma) in delta_gamma:\n",
        "    print(f\"gamma is {gamma} and delta is {delta} \\n\")\n",
        "    watermark_detector = WatermarkDetectorClass(tokenizer, gamma, \"cuda\")\n",
        "    with open(f\"gamma_{gamma}_delta_{delta}.pickle\", \"rb\") as f:\n",
        "      watermarked_outputs = pickle.load(f)[\"watermarked\"]\n",
        "    z_scores = []\n",
        "    ppl_scores = []\n",
        "    for i, index in enumerate(idx):\n",
        "      score_dict = watermark_detector.detect(watermarked_outputs[i])\n",
        "      input_text = \"summarize: \" + articles[index]\n",
        "      output_text = watermarked_outputs[i]\n",
        "      ppl_score = get_perplexity([input_text], [output_text])\n",
        "      z_scores.append(score_dict[\"z_score\"])\n",
        "      ppl_scores.append(ppl_score)\n",
        "    info[f\"gamma_{gamma}_delta_{delta}\"] = {\"z_score\": np.mean(z_scores), \"ppl_score\": np.mean(ppl_scores)}"
      ],
      "metadata": {
        "colab": {
          "base_uri": "https://localhost:8080/"
        },
        "id": "B-hz8iM_RqZw",
        "outputId": "1654c4db-82e5-4381-d698-571e4ddeb968"
      },
      "execution_count": 18,
      "outputs": [
        {
          "output_type": "stream",
          "name": "stdout",
          "text": [
            "gamma is 0.1 and delta is 5.0 \n",
            "\n",
            "gamma is 0.25 and delta is 5.0 \n",
            "\n",
            "gamma is 0.5 and delta is 5.0 \n",
            "\n",
            "gamma is 0.75 and delta is 5.0 \n",
            "\n",
            "gamma is 0.9 and delta is 5.0 \n",
            "\n",
            "gamma is 0.25 and delta is 10 \n",
            "\n",
            "gamma is 0.25 and delta is 5.0 \n",
            "\n",
            "gamma is 0.25 and delta is 2.0 \n",
            "\n",
            "gamma is 0.25 and delta is 1.0 \n",
            "\n",
            "gamma is 0.25 and delta is 0.5 \n",
            "\n"
          ]
        }
      ]
    },
    {
      "cell_type": "code",
      "source": [
        "import pickle\n",
        "with open(\"info.pickle\", \"wb\") as f:\n",
        "  pickle.dump(info, f)"
      ],
      "metadata": {
        "id": "Z6rnHH56nfon"
      },
      "execution_count": 19,
      "outputs": []
    },
    {
      "cell_type": "code",
      "source": [
        "i = 0\n",
        "colors = ['r', 'g', 'b', 'c', 'm', 'y', 'darkorange', 'hotpink', 'limegreen', '#1f77b4']\n",
        "symbol = {\n",
        "    \"10\": \"o\",\n",
        "    \"5.0\": \"r*\",\n",
        "    \"2.0\": \",\",\n",
        "    \"1.0\": \"x\",\n",
        "    \"0.5\": \"+\"\n",
        "}\n",
        "fig, ax = plt.subplots(figsize=(8,6))\n",
        "for (delta, gamma) in delta_gamma:\n",
        "      data = info[f\"gamma_{gamma}_delta_{delta}\"]\n",
        "      plt.plot(data[\"ppl_score\"], data[\"z_score\"], symbol[str(delta)], markersize=12, label=f'δ: {delta}, γ: {gamma}', c=colors[i])\n",
        "      i += 1\n",
        "\n",
        "plt.xlabel(\"PPL\")\n",
        "plt.ylabel(\"Z-score\")\n",
        "plt.rcParams['axes.edgecolor'] = 'black'\n",
        "plt.rcParams['grid.color'] = 'gray'\n",
        "plt.grid(True)\n",
        "plt.legend()\n",
        "ax.xaxis.set_inverted(True)\n",
        "plt.show()"
      ],
      "metadata": {
        "colab": {
          "base_uri": "https://localhost:8080/",
          "height": 605
        },
        "id": "OlqzDbii7HaP",
        "outputId": "7e95082a-986a-4364-e1a6-293d8c9d694c"
      },
      "execution_count": 24,
      "outputs": [
        {
          "output_type": "stream",
          "name": "stderr",
          "text": [
            "<ipython-input-24-487fde06a093>:13: UserWarning: color is redundantly defined by the 'color' keyword argument and the fmt string \"r*\" (-> color='r'). The keyword argument will take precedence.\n",
            "  plt.plot(data[\"ppl_score\"], data[\"z_score\"], symbol[str(delta)], markersize=12, label=f'δ: {delta}, γ: {gamma}', c=colors[i])\n"
          ]
        },
        {
          "output_type": "display_data",
          "data": {
            "text/plain": [
              "<Figure size 800x600 with 1 Axes>"
            ],
            "image/png": "[encoded data removed]"
          },
          "metadata": {}
        }
      ]
    }
  ]
}